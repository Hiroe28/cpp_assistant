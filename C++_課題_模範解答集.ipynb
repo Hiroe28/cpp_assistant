{
  "nbformat": 4,
  "nbformat_minor": 0,
  "metadata": {
    "colab": {
      "provenance": []
    },
    "kernelspec": {
      "name": "python3",
      "display_name": "Python 3"
    },
    "language_info": {
      "name": "python"
    }
  },
  "cells": [
    {
      "cell_type": "code",
      "source": [
        "#@title 名前入力\n",
        "# 必ず最初に以下に名前を記入して、Shift + Enterで実行してください\n",
        "name = \"あなたの名前\"\n",
        "print(name)"
      ],
      "metadata": {
        "id": "9dmFER0xkSCU",
        "colab": {
          "base_uri": "https://localhost:8080/"
        },
        "outputId": "6c821b8a-1028-4d3e-c306-4404ee053509"
      },
      "execution_count": 1,
      "outputs": [
        {
          "output_type": "stream",
          "name": "stdout",
          "text": [
            "あなた\n"
          ]
        }
      ]
    },
    {
      "cell_type": "code",
      "source": [
        "#@title 前処理コード { display-mode: \"form\", run: \"auto\" }\n",
        "#@markdown ※このセルの実行をお願いします※\n",
        "\n",
        "import os\n",
        "\n",
        "def submit_result(name, code_output, question_no):\n",
        "    import requests\n",
        "    text_no = \"cpp_\"  # C++用に変更\n",
        "\n",
        "    # 新しいフォームのURL\n",
        "    FORM_URL = \"https://docs.google.com/forms/d/e/1FAIpQLSe_kiTv91Ulut_cKrY7WMT4cWUI44nLEcDzFLZnaFZJ-aYPIQ/formResponse\"\n",
        "\n",
        "    # Formsの入力項目ID（同じIDを使用）\n",
        "    data = {\n",
        "        'entry.1049158114': name,\n",
        "        'entry.1116133824': code_output,\n",
        "        'entry.1164627803': text_no,\n",
        "        'entry.1429487951': question_no\n",
        "    }\n",
        "\n",
        "    try:\n",
        "        response = requests.post(FORM_URL, data=data)\n",
        "        if response.status_code == 200:\n",
        "            print(\"結果を提出しました\")\n",
        "        else:\n",
        "            print(f\"提出エラー: ステータスコード {response.status_code}\")\n",
        "    except Exception as e:\n",
        "        print(f\"提出時にエラーが発生しました: {e}\")\n",
        "\n",
        "def compile_program():\n",
        "    \"\"\"\n",
        "    C++プログラムをコンパイルし、結果を result_compile.txt に保存。\n",
        "    コンパイルエラーがあれば表示。\n",
        "    \"\"\"\n",
        "    compile_command = (\n",
        "        \"g++ -fsanitize=address -fsanitize=undefined -g -O1 -Wall -Wextra -pedantic \"\n",
        "        \"-Wconversion -Werror *.cpp -o program 2> result_compile.txt\"\n",
        "    )\n",
        "    os.system(compile_command)\n",
        "\n",
        "    # コンパイル結果を表示\n",
        "    with open(\"result_compile.txt\", \"r\") as f:\n",
        "        compile_output = f.read()\n",
        "\n",
        "    if compile_output.strip():  # コンパイルエラーがあれば内容を表示\n",
        "        print(\"=== コンパイル時のエラー ===\")\n",
        "        print(compile_output)\n",
        "        return False\n",
        "    else:\n",
        "        print(\"=== コンパイル成功 ===\")\n",
        "        return True\n",
        "\n",
        "def run_program():\n",
        "    \"\"\"\n",
        "    実行可能ファイルを実行し、結果を result_run.txt に保存。\n",
        "    実行時のエラーがあれば表示。\n",
        "    \"\"\"\n",
        "    if not os.path.exists(\"program\"):\n",
        "        print(\"エラー: 実行ファイルが存在しません。コンパイルが失敗しています。\")\n",
        "        return\n",
        "\n",
        "    run_command = \"./program > result_run.txt 2>&1\"\n",
        "    os.system(run_command)\n",
        "\n",
        "    # 実行結果を表示\n",
        "    with open(\"result_run.txt\", \"r\") as f:\n",
        "        run_output = f.read()\n",
        "\n",
        "    print(\"=== プログラムの実行結果 ===\")\n",
        "    print(run_output)\n",
        "\n",
        "def submit(question_no):\n",
        "    if name == \"\" or name == \"あなたの名前\":\n",
        "        print(\"nameに名前を入力し、再度提出してください。\")\n",
        "    else:\n",
        "        try:\n",
        "            with open('result_run.txt', 'r') as f:\n",
        "                result = f.read()\n",
        "            submit_result(name, result, question_no)\n",
        "        except FileNotFoundError:\n",
        "            print(\"result_run.txtが見つかりません。まずプログラムを実行してください。\")\n",
        "\n",
        "print(\"実行されました\")"
      ],
      "metadata": {
        "id": "ryzCHTe_qWEt",
        "colab": {
          "base_uri": "https://localhost:8080/"
        },
        "outputId": "ede7c872-14e8-4d98-f3b6-b063ea120dfd"
      },
      "execution_count": 2,
      "outputs": [
        {
          "output_type": "stream",
          "name": "stdout",
          "text": [
            "実行されました\n"
          ]
        }
      ]
    },
    {
      "cell_type": "markdown",
      "source": [
        "Github上のURLをエンコードするコード："
      ],
      "metadata": {
        "id": "vOGiFm3iJyYY"
      }
    },
    {
      "cell_type": "code",
      "source": [
        "import base64\n",
        "\n",
        "# 元のURL\n",
        "url = \"https://github.com/Hiroe28/c_assistant/blob/main/C_%E8%AA%B2%E9%A1%8C_%E6%A8%A1%E7%AF%84%E8%A7%A3%E7%AD%94%E9%9B%86.ipynb\"\n",
        "\n",
        "# GitHubのURLをraw.githubusercontent.comのURLに変換\n",
        "# blobをrawに変更し、githubをraw.githubusercontent.comに変更\n",
        "raw_url = url.replace(\"github.com\", \"raw.githubusercontent.com\").replace(\"/blob/\", \"/\")\n",
        "\n",
        "# Base64エンコード\n",
        "encoded_url = base64.b64encode(raw_url.encode()).decode()\n",
        "\n",
        "print(\"エンコードされたURL:\")\n",
        "print(encoded_url)"
      ],
      "metadata": {
        "id": "iPN2o5WhJisg"
      },
      "execution_count": null,
      "outputs": []
    },
    {
      "cell_type": "markdown",
      "source": [
        "# C_1 課題1\n",
        "1. `%%writefile main.cpp` はGoogle Colab上でC++のソースファイルを作成するための特別なコマンドです。\n",
        "\n",
        "このプログラムは、課題提出方法を学ぶためのものです。\n",
        "\n",
        "これからのテキストもがんばってくださいね！"
      ],
      "metadata": {
        "id": "t_2MRq7zKNVx"
      }
    },
    {
      "cell_type": "markdown",
      "source": [
        "# CPP_2 課題1\n",
        "\n",
        "以下のコードをコンパイルするとエラーが出ます。\n",
        "エラー内容を確認の上、正しく動作するように修正してください。\n",
        "\n",
        "期待する実行結果：\n",
        "```\n",
        "Hello, World!\n",
        "```"
      ],
      "metadata": {
        "id": "o4TcImKAM_dx"
      }
    },
    {
      "cell_type": "code",
      "source": [
        "%%writefile main.cpp\n",
        "include <iostream>\n",
        "\n",
        "int main() {\n",
        "    cout << \"Hello, World!\" << endl;\n",
        "    return 0;  // 戻り値を追加\n",
        "}"
      ],
      "metadata": {
        "colab": {
          "base_uri": "https://localhost:8080/"
        },
        "id": "EdCfJlFGL95_",
        "outputId": "8857288f-60b6-44d9-aa81-78096886b449"
      },
      "execution_count": null,
      "outputs": [
        {
          "output_type": "stream",
          "name": "stdout",
          "text": [
            "Overwriting main.cpp\n"
          ]
        }
      ]
    },
    {
      "cell_type": "code",
      "source": [
        "# コンパイル＆実行\n",
        "if compile_program():\n",
        "    run_program()"
      ],
      "metadata": {
        "colab": {
          "base_uri": "https://localhost:8080/"
        },
        "id": "uPloD8ZQu9vH",
        "outputId": "1bf3440e-ef12-4b9a-ec6d-207f9ae749e7"
      },
      "execution_count": null,
      "outputs": [
        {
          "output_type": "stream",
          "name": "stdout",
          "text": [
            "=== コンパイル時のエラー ===\n",
            "main.cpp:1:1: error: ‘include’ does not name a type\n",
            "    1 | include <iostream>\n",
            "      | ^~~~~~~\n",
            "\n"
          ]
        }
      ]
    },
    {
      "cell_type": "markdown",
      "source": [
        "# CPP_2 課題1 模範解答\n",
        "\n",
        "エラーの理由：\n",
        "1. `#include`の`#`が抜けています\n",
        "2. `iostream`の機能を使用する際に`std::`または`using`宣言が必要です"
      ],
      "metadata": {
        "id": "HBJhQED4MnZc"
      }
    },
    {
      "cell_type": "code",
      "source": [
        "%%writefile main.cpp\n",
        "#include <iostream>\n",
        "using namespace std;  // または std::を各機能の前につける\n",
        "\n",
        "int main() {\n",
        "    cout << \"Hello, World!\" << endl;\n",
        "    return 0;\n",
        "}"
      ],
      "metadata": {
        "colab": {
          "base_uri": "https://localhost:8080/"
        },
        "id": "ssx1rj0h1Pnu",
        "outputId": "599b5829-824e-4ed9-e7e8-e95bf0bb2949"
      },
      "execution_count": null,
      "outputs": [
        {
          "output_type": "stream",
          "name": "stdout",
          "text": [
            "Overwriting main.cpp\n"
          ]
        }
      ]
    },
    {
      "cell_type": "code",
      "source": [
        "# コンパイル＆実行\n",
        "if compile_program():\n",
        "    run_program()"
      ],
      "metadata": {
        "colab": {
          "base_uri": "https://localhost:8080/"
        },
        "id": "ZZ-eiPA7M8uC",
        "outputId": "fbe31dcb-f06c-42d1-89b7-e123159edbf0"
      },
      "execution_count": null,
      "outputs": [
        {
          "output_type": "stream",
          "name": "stdout",
          "text": [
            "=== コンパイル成功 ===\n",
            "=== プログラムの実行結果 ===\n",
            "Hello, World!\n",
            "\n"
          ]
        }
      ]
    },
    {
      "cell_type": "markdown",
      "source": [
        "\n",
        "---\n",
        "# CPP_2 課題2\n",
        "\n",
        "以下のコードをコンパイルするとエラーが出ます。\n",
        "エラー内容を確認の上、正しく動作するように修正してください。\n",
        "\n",
        "期待する実行結果：\n",
        "```\n",
        "Temperature: 36.60 degrees\n",
        "```\n"
      ],
      "metadata": {
        "id": "B9Zdw5ljSVvQ"
      }
    },
    {
      "cell_type": "code",
      "source": [
        "%%writefile main.cpp\n",
        "#include <iostream>\n",
        "\n",
        "int main() {\n",
        "    double temp = 36.6;\n",
        "    std::cout << fixed << setprecision(2);\n",
        "    std::cout << \"Temperature: \" << temp << \" degrees\" << endl;\n",
        "    return 0;\n",
        "}"
      ],
      "metadata": {
        "id": "5Wg2ODajSWCl"
      },
      "execution_count": null,
      "outputs": []
    },
    {
      "cell_type": "code",
      "source": [
        "# コンパイル＆実行\n",
        "if compile_program():\n",
        "    run_program()"
      ],
      "metadata": {
        "id": "yj8L78XXSWN6"
      },
      "execution_count": null,
      "outputs": []
    },
    {
      "cell_type": "markdown",
      "source": [
        "\n",
        "# CPP_2 課題2 模範解答\n",
        "\n",
        "エラーの理由：\n",
        "1. `fixed`と`setprecision`を使用するために必要な`<iomanip>`ヘッダーが含まれていません\n",
        "2. `fixed`と`setprecision`に`std::`が付いていません\n",
        "\n"
      ],
      "metadata": {
        "id": "ZxEkxGriSWZW"
      }
    },
    {
      "cell_type": "code",
      "source": [
        "%%writefile main.cpp\n",
        "#include <iostream>\n",
        "#include <iomanip>\n",
        "\n",
        "int main() {\n",
        "    double temp = 36.6;\n",
        "    std::cout << std::fixed << std::setprecision(2);\n",
        "    std::cout << \"Temperature: \" << temp << \" degrees\" << std::endl;\n",
        "    return 0;\n",
        "}"
      ],
      "metadata": {
        "colab": {
          "base_uri": "https://localhost:8080/"
        },
        "id": "RjJWczRjSWl5",
        "outputId": "5a593e80-90f9-4922-bc37-e7dcf210bc5c"
      },
      "execution_count": null,
      "outputs": [
        {
          "output_type": "stream",
          "name": "stdout",
          "text": [
            "Overwriting main.cpp\n"
          ]
        }
      ]
    },
    {
      "cell_type": "code",
      "source": [
        "# コンパイル＆実行\n",
        "if compile_program():\n",
        "    run_program()"
      ],
      "metadata": {
        "colab": {
          "base_uri": "https://localhost:8080/"
        },
        "id": "Js87c34qSWvA",
        "outputId": "2c6bb600-7d9b-4bab-af7a-3a1a564ec3f5"
      },
      "execution_count": null,
      "outputs": [
        {
          "output_type": "stream",
          "name": "stdout",
          "text": [
            "=== コンパイル成功 ===\n",
            "=== プログラムの実行結果 ===\n",
            "Temperature: 36.60 degrees\n",
            "\n"
          ]
        }
      ]
    },
    {
      "cell_type": "markdown",
      "source": [
        "\n",
        "---\n",
        "# CPP_3 課題1\n",
        "\n",
        "以下のコードをコンパイルするとエラーが出ます。\n",
        "エラー内容を確認の上、正しく動作するように修正してください。\n",
        "\n",
        "期待する実行結果：\n",
        "```\n",
        "エラー: 点数は0-100の間で設定してください\n",
        "Name: Bob, Score: 0\n",
        "```"
      ],
      "metadata": {
        "id": "Ur7rzWB_METu"
      }
    },
    {
      "cell_type": "code",
      "source": [
        "%%writefile main.cpp\n",
        "#include <iostream>\n",
        "#include <string>\n",
        "\n",
        "class Student {\n",
        "    std::string name;\n",
        "    int score;\n",
        "\n",
        "    void setScore(int s) {\n",
        "        if (s >= 0 && s <= 100) {\n",
        "            score = s;\n",
        "        } else {\n",
        "            std::cout << \"エラー: 点数は0-100の間で設定してください\" << std::endl;\n",
        "        }\n",
        "    }\n",
        "\n",
        "    void setName(const std::string& n) {\n",
        "        name = n;\n",
        "    }\n",
        "\n",
        "    void display() {\n",
        "        std::cout << \"Name: \" << name << \", Score: \" << score << std::endl;\n",
        "    }\n",
        "};\n",
        "\n",
        "int main() {\n",
        "    Student student;\n",
        "    student.setName(\"Bob\");\n",
        "    student.setScore(150);\n",
        "    student.display();\n",
        "    return 0;\n",
        "}"
      ],
      "metadata": {
        "id": "7Sk8arLbS9wF"
      },
      "execution_count": null,
      "outputs": []
    },
    {
      "cell_type": "code",
      "source": [
        "# コンパイル＆実行\n",
        "if compile_program():\n",
        "    run_program()"
      ],
      "metadata": {
        "id": "NqP_el3-MFcs"
      },
      "execution_count": null,
      "outputs": []
    },
    {
      "cell_type": "markdown",
      "source": [
        "\n",
        "# CPP_3 課題1 模範解答\n",
        "\n",
        "エラーの理由：\n",
        "1. アクセス指定子（`public:`）が指定されていないため、すべてのメンバが`private`になっている\n",
        "2. `private`メンバは外部からアクセスできない"
      ],
      "metadata": {
        "id": "cztwmiUcMn-S"
      }
    },
    {
      "cell_type": "code",
      "source": [
        "%%writefile main.cpp\n",
        "#include <iostream>\n",
        "#include <string>\n",
        "\n",
        "class Student {\n",
        "\n",
        "private: // 追加\n",
        "    std::string name;\n",
        "    int score;\n",
        "\n",
        "public: // 追加\n",
        "    void setScore(int s) {\n",
        "        if (s >= 0 && s <= 100) {\n",
        "            score = s;\n",
        "        } else {\n",
        "            std::cout << \"エラー: 点数は0-100の間で設定してください\" << std::endl;\n",
        "        }\n",
        "    }\n",
        "\n",
        "    void setName(const std::string& n) {\n",
        "        name = n;\n",
        "    }\n",
        "\n",
        "    void display() {\n",
        "        std::cout << \"Name: \" << name << \", Score: \" << score << std::endl;\n",
        "    }\n",
        "};\n",
        "\n",
        "int main() {\n",
        "    Student student;\n",
        "    student.setName(\"Bob\");\n",
        "    student.setScore(150);\n",
        "    student.display();\n",
        "    return 0;\n",
        "}\n"
      ],
      "metadata": {
        "colab": {
          "base_uri": "https://localhost:8080/"
        },
        "id": "mEEenCvoMoLi",
        "outputId": "be54a233-3cf6-432a-da8f-8d39292c258c"
      },
      "execution_count": null,
      "outputs": [
        {
          "output_type": "stream",
          "name": "stdout",
          "text": [
            "Overwriting main.cpp\n"
          ]
        }
      ]
    },
    {
      "cell_type": "code",
      "source": [
        "# コンパイル＆実行\n",
        "if compile_program():\n",
        "    run_program()"
      ],
      "metadata": {
        "colab": {
          "base_uri": "https://localhost:8080/"
        },
        "id": "KLHFxGDsMoTi",
        "outputId": "1732907e-9f65-49c5-84d4-7a41c0e483d7"
      },
      "execution_count": null,
      "outputs": [
        {
          "output_type": "stream",
          "name": "stdout",
          "text": [
            "=== コンパイル成功 ===\n",
            "=== プログラムの実行結果 ===\n",
            "エラー: 点数は0-100の間で設定してください\n",
            "Name: Bob, Score: 0\n",
            "\n"
          ]
        }
      ]
    },
    {
      "cell_type": "markdown",
      "source": [
        "---\n",
        "# CPP_4 課題1\n",
        "\n",
        "以下のコードを実行すると、正しい初期値が設定されていません。<br>\n",
        "デフォルトコンストラクタを追加して、新規作成時に適切な初期値が設定されるように修正してください。\n",
        "\n",
        "\n",
        "期待する実行結果：\n",
        "```\n",
        "新しい商品を登録しました\n",
        "商品情報: [登録待ち] 価格: 0円 在庫: 0\n",
        "商品情報を更新しました\n",
        "商品情報: りんご 価格: 150円 在庫: 100\n",
        "```"
      ],
      "metadata": {
        "id": "WIYe_Is1rRee"
      }
    },
    {
      "cell_type": "code",
      "source": [
        "%%writefile main.cpp\n",
        "#include <iostream>\n",
        "#include <string>\n",
        "\n",
        "class Product {\n",
        "public:\n",
        "    void setInfo(std::string n, int p, int s) {\n",
        "        name = n;\n",
        "        price = p;\n",
        "        stock = s;\n",
        "        std::cout << \"商品情報を更新しました\" << std::endl;\n",
        "    }\n",
        "\n",
        "    void display() {\n",
        "        std::cout << \"商品情報: \" << name << \" 価格: \" << price\n",
        "                  << \"円 在庫: \" << stock << std::endl;\n",
        "    }\n",
        "\n",
        "private:\n",
        "    std::string name;  // 現状：初期値が空文字列\n",
        "    int price;         // 現状：初期値が0\n",
        "    int stock;         // 現状：初期値が0\n",
        "};\n",
        "\n",
        "int main() {\n",
        "    Product product;\n",
        "    std::cout << \"新しい商品を登録しました\" << std::endl;\n",
        "    product.display();\n",
        "\n",
        "    product.setInfo(\"りんご\", 150, 100);\n",
        "    product.display();\n",
        "    return 0;\n",
        "}"
      ],
      "metadata": {
        "colab": {
          "base_uri": "https://localhost:8080/"
        },
        "id": "3YpcBwIIrRoq",
        "outputId": "450f7aea-4943-49f0-8780-2bb953183460"
      },
      "execution_count": null,
      "outputs": [
        {
          "output_type": "stream",
          "name": "stdout",
          "text": [
            "Overwriting main.cpp\n"
          ]
        }
      ]
    },
    {
      "cell_type": "code",
      "source": [
        "# コンパイル＆実行\n",
        "if compile_program():\n",
        "    run_program()"
      ],
      "metadata": {
        "colab": {
          "base_uri": "https://localhost:8080/"
        },
        "id": "GrrkEoqjrRvi",
        "outputId": "b5ad10fc-37dc-4358-a0ae-768c1cb6260c"
      },
      "execution_count": null,
      "outputs": [
        {
          "output_type": "stream",
          "name": "stdout",
          "text": [
            "=== コンパイル成功 ===\n",
            "=== プログラムの実行結果 ===\n",
            "新しい商品を登録しました\n",
            "商品情報:  価格: 0円 在庫: 0\n",
            "商品情報を更新しました\n",
            "商品情報: りんご 価格: 150円 在庫: 100\n",
            "\n"
          ]
        }
      ]
    },
    {
      "cell_type": "markdown",
      "source": [
        "# CPP_4 課題1 模範解答\n",
        "\n",
        "解説：\n",
        "1. メンバ変数の初期化が明示的に行われていないため、商品名が空文字列として表示される\n",
        "2. 業務的な観点から、商品が未登録状態であることを明確に示す初期値が必要\n",
        "3. デフォルトコンストラクタがないため、オブジェクト生成時に適切な初期状態を設定できない"
      ],
      "metadata": {
        "id": "6o8h4ziSrP8G"
      }
    },
    {
      "cell_type": "code",
      "source": [
        "%%writefile main.cpp\n",
        "#include <iostream>\n",
        "#include <string>\n",
        "\n",
        "class Product {\n",
        "public:\n",
        "    // デフォルトコンストラクタを追加\n",
        "    Product() {\n",
        "        name = \"[登録待ち]\";  // 商品名の初期値を設定\n",
        "        price = 0;           // 価格の初期値を設定\n",
        "        stock = 0;           // 在庫数の初期値を設定\n",
        "    }\n",
        "\n",
        "    void setInfo(std::string n, int p, int s) {\n",
        "        name = n;\n",
        "        price = p;\n",
        "        stock = s;\n",
        "        std::cout << \"商品情報を更新しました\" << std::endl;\n",
        "    }\n",
        "\n",
        "    void display() {\n",
        "        std::cout << \"商品情報: \" << name << \" 価格: \" << price\n",
        "                  << \"円 在庫: \" << stock << std::endl;\n",
        "    }\n",
        "\n",
        "private:\n",
        "    std::string name;\n",
        "    int price;\n",
        "    int stock;\n",
        "};\n",
        "\n",
        "int main() {\n",
        "    Product product;  // この時点でデフォルトコンストラクタが呼び出される\n",
        "    std::cout << \"新しい商品を登録しました\" << std::endl;\n",
        "    product.display();\n",
        "\n",
        "    product.setInfo(\"りんご\", 150, 100);\n",
        "    product.display();\n",
        "    return 0;\n",
        "}"
      ],
      "metadata": {
        "id": "aoYVk6ODwOvf"
      },
      "execution_count": null,
      "outputs": []
    },
    {
      "cell_type": "markdown",
      "source": [
        "---\n",
        "# CPP_5 課題1\n",
        "\n",
        "以下のコードをコンパイルするとエラーが出ます。\n",
        "エラー内容を確認の上、正しく動作するように修正してください。\n",
        "\n",
        "期待する実行結果：\n",
        "```\n",
        "Hello World\n",
        "文字列の長さ: 11\n",
        "```\n",
        "\n",
        "※ std::stringクラスを使いましょう。<br>\n",
        "`# include <string> `が必要です。"
      ],
      "metadata": {
        "id": "LTdrMXtdxCHX"
      }
    },
    {
      "cell_type": "code",
      "source": [
        "%%writefile main.cpp\n",
        "#include <iostream>\n",
        "\n",
        "int main() {\n",
        "    char str1[] = \"Hello\";\n",
        "    char str2[] = \"World\";\n",
        "    char result[10];\n",
        "\n",
        "    result = str1 + \" \" + str2;\n",
        "\n",
        "    cout << result << endl;\n",
        "    cout << \"文字列の長さ: \" << result.length() << endl;\n",
        "\n",
        "    return 0;\n",
        "}"
      ],
      "metadata": {
        "id": "FeX2fqMJwPYr",
        "colab": {
          "base_uri": "https://localhost:8080/"
        },
        "outputId": "652eb31f-394f-44b5-9265-8dc8dc6bc6d0"
      },
      "execution_count": null,
      "outputs": [
        {
          "output_type": "stream",
          "name": "stdout",
          "text": [
            "Overwriting main.cpp\n"
          ]
        }
      ]
    },
    {
      "cell_type": "code",
      "source": [
        "# コンパイル＆実行\n",
        "if compile_program():\n",
        "    run_program()"
      ],
      "metadata": {
        "colab": {
          "base_uri": "https://localhost:8080/"
        },
        "id": "sHvbmfKDxIRj",
        "outputId": "12ea9bbc-2df3-408f-85bb-324aa805725e"
      },
      "execution_count": null,
      "outputs": [
        {
          "output_type": "stream",
          "name": "stdout",
          "text": [
            "=== コンパイル時のエラー ===\n",
            "main.cpp: In function ‘int main()’:\n",
            "main.cpp:8:19: error: invalid operands of types ‘char [6]’ and ‘const char [2]’ to binary ‘operator+’\n",
            "    8 |     result = str1 + \" \" + str2;\n",
            "      |              ~~~~ ^ ~~~\n",
            "      |              |      |\n",
            "      |              |      const char [2]\n",
            "      |              char [6]\n",
            "main.cpp:10:5: error: ‘cout’ was not declared in this scope; did you mean ‘std::cout’?\n",
            "   10 |     cout << result << endl;\n",
            "      |     ^~~~\n",
            "      |     std::cout\n",
            "In file included from main.cpp:1:\n",
            "/usr/include/c++/11/iostream:61:18: note: ‘std::cout’ declared here\n",
            "   61 |   extern ostream cout;          /// Linked to standard output\n",
            "      |                  ^~~~\n",
            "main.cpp:10:23: error: ‘endl’ was not declared in this scope; did you mean ‘std::endl’?\n",
            "   10 |     cout << result << endl;\n",
            "      |                       ^~~~\n",
            "      |                       std::endl\n",
            "In file included from /usr/include/c++/11/iostream:39,\n",
            "                 from main.cpp:1:\n",
            "/usr/include/c++/11/ostream:684:5: note: ‘std::endl’ declared here\n",
            "  684 |     endl(basic_ostream<_CharT, _Traits>& __os)\n",
            "      |     ^~~~\n",
            "main.cpp:11:40: error: request for member ‘length’ in ‘result’, which is of non-class type ‘char [10]’\n",
            "   11 |     cout << \"文字列の長さ: \" << result.length() << endl;\n",
            "      |                                        ^~~~~~\n",
            "\n"
          ]
        }
      ]
    },
    {
      "cell_type": "markdown",
      "source": [
        "# CPP_5 課題1 模範解答\n",
        "\n",
        "エラーの理由：\n",
        "1. C++での文字列連結は、char str1[]などのC言語スタイルの文字配列では`+`演算子が使えません。また、文字配列に対して`.length()`メソッドは使用できません\n",
        "2. charの文字配列をstd::stringに修正します\n",
        "3. `iostream`を使用する際は`std::`が必要です（もしくは`using namespace std;`の宣言が必要）\n"
      ],
      "metadata": {
        "id": "eOYTO-DzxIY_"
      }
    },
    {
      "cell_type": "code",
      "source": [
        "%%writefile main.cpp\n",
        "#include <iostream>\n",
        "#include <string>\n",
        "\n",
        "int main() {\n",
        "    std::string str1 = \"Hello\";\n",
        "    std::string str2 = \"World\";\n",
        "    std::string result;\n",
        "\n",
        "    result = str1 + \" \" + str2;\n",
        "\n",
        "    std::cout << result << std::endl;\n",
        "    std::cout << \"文字列の長さ: \" << result.length() << std::endl;\n",
        "\n",
        "    return 0;\n",
        "}"
      ],
      "metadata": {
        "colab": {
          "base_uri": "https://localhost:8080/"
        },
        "id": "zax3Gg24xIjD",
        "outputId": "3d7e1aa0-59c3-4de9-cebd-b999cfb0fc2e"
      },
      "execution_count": null,
      "outputs": [
        {
          "output_type": "stream",
          "name": "stdout",
          "text": [
            "Overwriting main.cpp\n"
          ]
        }
      ]
    },
    {
      "cell_type": "code",
      "source": [
        "# コンパイル＆実行\n",
        "if compile_program():\n",
        "    run_program()"
      ],
      "metadata": {
        "colab": {
          "base_uri": "https://localhost:8080/"
        },
        "id": "ZXZUCqW7xImm",
        "outputId": "b669c503-aad9-4c38-87f1-f8897b7ab5d9"
      },
      "execution_count": null,
      "outputs": [
        {
          "output_type": "stream",
          "name": "stdout",
          "text": [
            "=== コンパイル成功 ===\n",
            "=== プログラムの実行結果 ===\n",
            "Hello World\n",
            "文字列の長さ: 11\n",
            "\n"
          ]
        }
      ]
    },
    {
      "cell_type": "markdown",
      "source": [
        "---\n",
        "# CPP_6 課題1\n",
        "\n",
        "以下のコードをコンパイルするとエラーが出ます。\n",
        "エラー内容を確認の上、正しく動作するように修正してください。\n",
        "\n",
        "期待する実行結果：\n",
        "```\n",
        "Hello, World!\n",
        "```"
      ],
      "metadata": {
        "id": "F-M8OdoIz48V"
      }
    },
    {
      "cell_type": "code",
      "source": [
        "%%writefile main.cpp\n",
        "#include <iostream>\n",
        "#include <string>\n",
        "\n",
        "void printMessage(std::string& message) {\n",
        "    std::cout << message << std::endl;\n",
        "}\n",
        "\n",
        "int main() {\n",
        "    printMessage(\"Hello, World!\");\n",
        "    return 0;\n",
        "}"
      ],
      "metadata": {
        "colab": {
          "base_uri": "https://localhost:8080/"
        },
        "id": "K9QkyiQRz5C8",
        "outputId": "fa5651b8-89f2-4a41-fabb-cf837d5451c4"
      },
      "execution_count": null,
      "outputs": [
        {
          "output_type": "stream",
          "name": "stdout",
          "text": [
            "Overwriting main.cpp\n"
          ]
        }
      ]
    },
    {
      "cell_type": "code",
      "source": [
        "# コンパイル＆実行\n",
        "if compile_program():\n",
        "    run_program()"
      ],
      "metadata": {
        "colab": {
          "base_uri": "https://localhost:8080/"
        },
        "id": "2f0YTSxGz5F5",
        "outputId": "411c8974-dfcd-431d-f2eb-01d4cd313edc"
      },
      "execution_count": null,
      "outputs": [
        {
          "output_type": "stream",
          "name": "stdout",
          "text": [
            "=== コンパイル時のエラー ===\n",
            "main.cpp: In function ‘int main()’:\n",
            "main.cpp:6:10: error: ‘ref’ declared as reference but not initialized\n",
            "    6 |     int& ref;  // 参照を宣言\n",
            "      |          ^~~\n",
            "\n"
          ]
        }
      ]
    },
    {
      "cell_type": "markdown",
      "source": [
        "# CPP_6 課題1 模範解答\n",
        "\n",
        "エラーの理由：\n",
        "1. 文字列リテラル \"Hello, World!\" は一時的な値であり、非const参照として受け取ることができない\n",
        "2. 参照パラメータには変更可能な左辺値（実体のある変数）が必要\n"
      ],
      "metadata": {
        "id": "bB9ZB408z7cZ"
      }
    },
    {
      "cell_type": "code",
      "source": [
        "%%writefile main.cpp\n",
        "#include <iostream>\n",
        "#include <string>\n",
        "\n",
        "void printMessage(const std::string& message) {  // constを追加\n",
        "    std::cout << message << std::endl;\n",
        "}\n",
        "\n",
        "int main() {\n",
        "    printMessage(\"Hello, World!\");\n",
        "    return 0;\n",
        "}"
      ],
      "metadata": {
        "colab": {
          "base_uri": "https://localhost:8080/"
        },
        "id": "hCRi4XQHz7im",
        "outputId": "85a87af1-1201-428c-9522-62060bcdc93d"
      },
      "execution_count": null,
      "outputs": [
        {
          "output_type": "stream",
          "name": "stdout",
          "text": [
            "Writing main.cpp\n"
          ]
        }
      ]
    },
    {
      "cell_type": "code",
      "source": [
        "# コンパイル＆実行\n",
        "if compile_program():\n",
        "    run_program()"
      ],
      "metadata": {
        "colab": {
          "base_uri": "https://localhost:8080/"
        },
        "id": "Yo6JyOIfz7lM",
        "outputId": "05976003-8ac6-4d9d-ae4b-1ad293932fc9"
      },
      "execution_count": null,
      "outputs": [
        {
          "output_type": "stream",
          "name": "stdout",
          "text": [
            "=== コンパイル成功 ===\n",
            "=== プログラムの実行結果 ===\n",
            "Hello, World!\n",
            "\n"
          ]
        }
      ]
    },
    {
      "cell_type": "markdown",
      "source": [
        "---\n",
        "# CPP_7 課題1\n",
        "\n",
        "以下のコードをコンパイルするとエラーが出ます。\n",
        "エラー内容を確認の上、正しく動作するように修正してください。\n",
        "\n",
        "※このコードではC++の標準テンプレートライブラリ(STL)の`vector`クラスを使用しています。\n",
        "`vector`は可変長配列を扱うためのクラスで、サイズを後から変更できる配列を簡単に作成できます。\n",
        "\n",
        "期待する実行結果：\n",
        "```\n",
        "Numbers: 10 20 30\n",
        "```\n",
        "\n",
        "※実際の課題では++14のコンパイラオプションを指定し、厳格なチェックをしていますが、模範解答集ではしていないためエラーは出ません\n"
      ],
      "metadata": {
        "id": "cC0R8gETS7_N"
      }
    },
    {
      "cell_type": "code",
      "source": [
        "%%writefile main.cpp\n",
        "# include <iostream>\n",
        "# include <vector>\n",
        "\n",
        "int main() {\n",
        "    std::vector numbers = {10, 20, 30};\n",
        "\n",
        "    std::cout << \"Numbers: \";\n",
        "    for(int n : numbers) {\n",
        "        std::cout << n << \" \";\n",
        "    }\n",
        "    std::cout << std::endl;\n",
        "\n",
        "    return 0;\n",
        "}"
      ],
      "metadata": {
        "colab": {
          "base_uri": "https://localhost:8080/"
        },
        "id": "vVvomji6TDB2",
        "outputId": "cf794d4c-e9c9-499f-f16d-a1a757b8f6c9"
      },
      "execution_count": null,
      "outputs": [
        {
          "output_type": "stream",
          "name": "stdout",
          "text": [
            "Overwriting main.cpp\n"
          ]
        }
      ]
    },
    {
      "cell_type": "code",
      "source": [
        "# コンパイル＆実行\n",
        "if compile_program():\n",
        "    run_program()"
      ],
      "metadata": {
        "colab": {
          "base_uri": "https://localhost:8080/"
        },
        "id": "WsOOm9qETDH8",
        "outputId": "29d0a9e2-9771-472d-bdd7-143712c8deed"
      },
      "execution_count": null,
      "outputs": [
        {
          "output_type": "stream",
          "name": "stdout",
          "text": [
            "=== コンパイル成功 ===\n",
            "=== プログラムの実行結果 ===\n",
            "Numbers: 10 20 30 \n",
            "\n"
          ]
        }
      ]
    },
    {
      "cell_type": "markdown",
      "source": [
        "# CPP_7 課題1 模範解答\n",
        "\n",
        "エラーの理由：\n",
        "1. vectorクラスを使用する際は、格納するデータの型を`<>`の中に指定する必要があります\n",
        "2. 例えば整数を格納する場合は`vector<int>`のように書きます"
      ],
      "metadata": {
        "id": "v_Hp1sElS-hF"
      }
    },
    {
      "cell_type": "code",
      "source": [
        "%%writefile main.cpp\n",
        "#include <iostream>\n",
        "#include <vector>\n",
        "\n",
        "int main() {\n",
        "    std::vector<int> numbers = {10, 20, 30};\n",
        "\n",
        "    std::cout << \"Numbers: \";\n",
        "    for(int n : numbers) {\n",
        "        std::cout << n << \" \";\n",
        "    }\n",
        "    std::cout << std::endl;\n",
        "\n",
        "    return 0;\n",
        "}"
      ],
      "metadata": {
        "colab": {
          "base_uri": "https://localhost:8080/"
        },
        "id": "ixwii0yGTEHj",
        "outputId": "0e9c820c-740b-49c1-ee7c-ae4ce158d8ad"
      },
      "execution_count": null,
      "outputs": [
        {
          "output_type": "stream",
          "name": "stdout",
          "text": [
            "Overwriting main.cpp\n"
          ]
        }
      ]
    },
    {
      "cell_type": "code",
      "source": [
        "# コンパイル＆実行\n",
        "if compile_program():\n",
        "    run_program()"
      ],
      "metadata": {
        "colab": {
          "base_uri": "https://localhost:8080/"
        },
        "id": "OmE9NBtk0ex-",
        "outputId": "944d260c-1163-4080-b3cd-5455766ab0b5"
      },
      "execution_count": null,
      "outputs": [
        {
          "output_type": "stream",
          "name": "stdout",
          "text": [
            "=== コンパイル成功 ===\n",
            "=== プログラムの実行結果 ===\n",
            "Numbers: 10 20 30 \n",
            "\n"
          ]
        }
      ]
    },
    {
      "cell_type": "markdown",
      "source": [
        "---\n",
        "# CPP_8 課題1\n",
        "\n",
        "以下のコードの空欄を埋めて、期待する実行結果が得られるようにしてください。<br>\n",
        "（コメントを参考に、適切なvectorのメンバ関数を選んでください）\n",
        "\n",
        "期待する実行結果：\n",
        "```\n",
        "Numbers: 10 20 30\n",
        "After adding 40: 10 20 30 40\n",
        "Total numbers: 4\n",
        "```"
      ],
      "metadata": {
        "id": "qk7qsYg-TGNw"
      }
    },
    {
      "cell_type": "code",
      "source": [
        "%%writefile main.cpp\n",
        "#include <iostream>\n",
        "#include <vector>\n",
        "\n",
        "int main() {\n",
        "    std::vector<int> numbers = {10, 20, 30};\n",
        "\n",
        "    // 現在の数字を表示\n",
        "    std::cout << \"Numbers: \";\n",
        "    for(int num : numbers) std::cout << num << \" \";\n",
        "    std::cout << std::endl;\n",
        "\n",
        "    // 新しい数字40を末尾に追加してください\n",
        "    numbers._______(40);\n",
        "\n",
        "    // 追加後の数字を表示\n",
        "    std::cout << \"After adding 40: \";\n",
        "    for(int num : numbers) std::cout << num << \" \";\n",
        "    std::cout << std::endl;\n",
        "\n",
        "    // vectorの要素数を取得してください\n",
        "    std::cout << \"Total numbers: \" << numbers._______() << std::endl;\n",
        "\n",
        "    return 0;\n",
        "}"
      ],
      "metadata": {
        "id": "aWtdVmusTIRi"
      },
      "execution_count": null,
      "outputs": []
    },
    {
      "cell_type": "code",
      "source": [
        "# コンパイル＆実行\n",
        "if compile_program():\n",
        "    run_program()"
      ],
      "metadata": {
        "id": "ogappwlkTIUV"
      },
      "execution_count": null,
      "outputs": []
    },
    {
      "cell_type": "markdown",
      "source": [
        "# CPP_8 課題1 模範解答\n",
        "\n",
        "空欄に入る適切なメンバ関数：\n",
        "1. 1つ目の空欄: `push_back` - 新しい要素を末尾に追加します\n",
        "2. 2つ目の空欄: `size` - vectorの現在の要素数を返します"
      ],
      "metadata": {
        "id": "kJ-HaMUgTIfv"
      }
    },
    {
      "cell_type": "code",
      "source": [
        "%%writefile main.cpp\n",
        "#include <iostream>\n",
        "#include <vector>\n",
        "\n",
        "int main() {\n",
        "    std::vector<int> numbers = {10, 20, 30};\n",
        "\n",
        "    // 現在の数字を表示\n",
        "    std::cout << \"Numbers: \";\n",
        "    for(int num : numbers) std::cout << num << \" \";\n",
        "    std::cout << std::endl;\n",
        "\n",
        "    // 新しい数字40を末尾に追加\n",
        "    numbers.push_back(40);\n",
        "\n",
        "    // 追加後の数字を表示\n",
        "    std::cout << \"After adding 40: \";\n",
        "    for(int num : numbers) std::cout << num << \" \";\n",
        "    std::cout << std::endl;\n",
        "\n",
        "    // vectorの要素数を取得\n",
        "    std::cout << \"Total numbers: \" << numbers.size() << std::endl;\n",
        "\n",
        "    return 0;\n",
        "}"
      ],
      "metadata": {
        "colab": {
          "base_uri": "https://localhost:8080/"
        },
        "id": "K3rmrhKwTJnP",
        "outputId": "1ed1dcd9-8a92-4806-8c48-a450ef54e684"
      },
      "execution_count": null,
      "outputs": [
        {
          "output_type": "stream",
          "name": "stdout",
          "text": [
            "Overwriting main.cpp\n"
          ]
        }
      ]
    },
    {
      "cell_type": "code",
      "source": [
        "# コンパイル＆実行\n",
        "if compile_program():\n",
        "    run_program()"
      ],
      "metadata": {
        "colab": {
          "base_uri": "https://localhost:8080/"
        },
        "id": "9cPGPdxfTJp5",
        "outputId": "503ef47e-b73f-4607-ceec-a54fd36fcbfb"
      },
      "execution_count": null,
      "outputs": [
        {
          "output_type": "stream",
          "name": "stdout",
          "text": [
            "=== コンパイル成功 ===\n",
            "=== プログラムの実行結果 ===\n",
            "Numbers: 10 20 30 \n",
            "After adding 40: 10 20 30 40 \n",
            "Total numbers: 4\n",
            "\n"
          ]
        }
      ]
    },
    {
      "cell_type": "markdown",
      "source": [
        "---\n",
        "# CPP_8 課題2\n",
        "\n",
        "以下のコードの空欄を埋めて、期待する実行結果が得られるようにしてください。<br>\n",
        "（コメントを参考に、適切なmapのメンバ関数を選んでください）\n",
        "\n",
        "期待する実行結果：\n",
        "```\n",
        "Alice's score: 85\n",
        "Total students: 3\n",
        "Bob's score updated to 92\n",
        "Bob exists: yes\n",
        "```"
      ],
      "metadata": {
        "id": "DX0rYAcXk0ED"
      }
    },
    {
      "cell_type": "code",
      "source": [
        "%%writefile main.cpp\n",
        "#include <iostream>\n",
        "#include <map>\n",
        "#include <string>\n",
        "\n",
        "int main() {\n",
        "    // 生徒の名前と点数を管理するmap\n",
        "    std::map<std::string, int> scores = {\n",
        "        {\"Alice\", 85},\n",
        "        {\"Bob\", 78},\n",
        "        {\"Charlie\", 90}\n",
        "    };\n",
        "\n",
        "    // Aliceの点数を表示（[]演算子を使用）\n",
        "    std::cout << \"Alice's score: \" << scores[\"Alice\"] << std::endl;\n",
        "\n",
        "    // 登録されている生徒の総数を表示\n",
        "    std::cout << \"Total students: \" << scores._______() << std::endl;\n",
        "\n",
        "    // Bobの点数を92に更新\n",
        "    scores[\"Bob\"] = 92;\n",
        "    std::cout << \"Bob's score updated to \" << scores[\"Bob\"] << std::endl;\n",
        "\n",
        "    // Bobが存在するかどうかを確認（count関数を使用）\n",
        "    std::cout << \"Bob exists: \" << (scores._______(\"Bob\") > 0 ? \"yes\" : \"no\") << std::endl;\n",
        "\n",
        "    return 0;\n",
        "}"
      ],
      "metadata": {
        "id": "k_4Y_5Bsk0Oa"
      },
      "execution_count": null,
      "outputs": []
    },
    {
      "cell_type": "code",
      "source": [
        "# コンパイル＆実行\n",
        "if compile_program():\n",
        "    run_program()"
      ],
      "metadata": {
        "id": "kN-_WUYAk0SO"
      },
      "execution_count": null,
      "outputs": []
    },
    {
      "cell_type": "markdown",
      "source": [
        "# CPP_8 課題2 模範解答\n",
        "\n",
        "空欄に入る適切な記述：\n",
        "1. 1つ目の空欄: `size` - mapの要素数を取得\n",
        "2. 2つ目の空欄: `count` - 指定したキーの存在確認"
      ],
      "metadata": {
        "id": "66LvbwXXlMHd"
      }
    },
    {
      "cell_type": "code",
      "source": [
        "%%writefile main.cpp\n",
        "#include <iostream>\n",
        "#include <map>\n",
        "#include <string>\n",
        "\n",
        "int main() {\n",
        "    // 生徒の名前と点数を管理するmap\n",
        "    std::map<std::string, int> scores = {\n",
        "        {\"Alice\", 85},\n",
        "        {\"Bob\", 78},\n",
        "        {\"Charlie\", 90}\n",
        "    };\n",
        "\n",
        "    // Aliceの点数を表示\n",
        "    std::cout << \"Alice's score: \" << scores[\"Alice\"] << std::endl;\n",
        "\n",
        "    // 登録されている生徒の総数を表示\n",
        "    std::cout << \"Total students: \" << scores.size() << std::endl;\n",
        "\n",
        "    // Bobの点数を92に更新\n",
        "    scores[\"Bob\"] = 92;\n",
        "    std::cout << \"Bob's score updated to \" << scores[\"Bob\"] << std::endl;\n",
        "\n",
        "    // Bobが存在するかどうかを確認\n",
        "    std::cout << \"Bob exists: \" << (scores.count(\"Bob\") > 0 ? \"yes\" : \"no\") << std::endl;\n",
        "\n",
        "    return 0;\n",
        "}"
      ],
      "metadata": {
        "colab": {
          "base_uri": "https://localhost:8080/"
        },
        "id": "ZJ1a4rGMlMOC",
        "outputId": "68cdd0a6-9ae8-46d4-b775-3248ae9e037b"
      },
      "execution_count": null,
      "outputs": [
        {
          "output_type": "stream",
          "name": "stdout",
          "text": [
            "Overwriting main.cpp\n"
          ]
        }
      ]
    },
    {
      "cell_type": "code",
      "source": [
        "# コンパイル＆実行\n",
        "if compile_program():\n",
        "    run_program()"
      ],
      "metadata": {
        "colab": {
          "base_uri": "https://localhost:8080/"
        },
        "id": "8Avj6nJwlMQ0",
        "outputId": "eca9a10c-fa0b-4e96-8ecc-d010cb9639f0"
      },
      "execution_count": null,
      "outputs": [
        {
          "output_type": "stream",
          "name": "stdout",
          "text": [
            "=== コンパイル成功 ===\n",
            "=== プログラムの実行結果 ===\n",
            "Alice's score: 85\n",
            "Total students: 3\n",
            "Bob's score updated to 92\n",
            "Bob exists: yes\n",
            "\n"
          ]
        }
      ]
    },
    {
      "cell_type": "markdown",
      "source": [
        "---\n",
        "# CPP_9 課題1\n",
        "\n",
        "以下のコードは\n",
        "1. `Product`（基底クラス）\n",
        "   - 通常商品の基本機能を実装（価格の保持と表示）\n",
        "   - 他の商品タイプの共通基盤となる\n",
        "\n",
        "2. `DiscountProduct`（派生クラス）\n",
        "   - `Product`の基本機能を継承\n",
        "   - 価格表示方法だけを独自にカスタマイズ（20%割引を適用）\n",
        "\n",
        "のコードですが、コンパイルするとエラーが出ます。\n",
        "エラーの内容を確認の上、正しく動作するように修正してください。\n",
        "\n",
        "期待する実行結果：\n",
        "```\n",
        "基本商品の価格: 100円\n",
        "割引商品の価格: 80円（20%OFF）"
      ],
      "metadata": {
        "id": "s2pTtlmdTKl3"
      }
    },
    {
      "cell_type": "code",
      "source": [
        "%%writefile main.cpp\n",
        "#include <iostream>\n",
        "\n",
        "class Product {\n",
        "    int price;\n",
        "public:\n",
        "    Product(int p) : price(p) {}\n",
        "    void displayPrice() {\n",
        "        std::cout << \"基本商品の価格: \" << price << \"円\" << std::endl;\n",
        "    }\n",
        "};\n",
        "\n",
        "class DiscountProduct {\n",
        "public:\n",
        "    DiscountProduct(int p) : price(p) {}\n",
        "    void displayPrice() {\n",
        "        int discounted = price * 0.8;  // 20%割引\n",
        "        std::cout << \"割引商品の価格: \" << discounted << \"円（20%OFF）\" << std::endl;\n",
        "    }\n",
        "};\n",
        "\n",
        "int main() {\n",
        "    Product basic(100);\n",
        "    DiscountProduct special(100);\n",
        "\n",
        "    basic.displayPrice();\n",
        "    special.displayPrice();\n",
        "    return 0;\n",
        "}"
      ],
      "metadata": {
        "id": "rF1jqM4DTN5f"
      },
      "execution_count": null,
      "outputs": []
    },
    {
      "cell_type": "code",
      "source": [
        "# コンパイル＆実行\n",
        "if compile_program():\n",
        "    run_program()"
      ],
      "metadata": {
        "id": "skiRSdayTN8D"
      },
      "execution_count": null,
      "outputs": []
    },
    {
      "cell_type": "markdown",
      "source": [
        "# CPP_9 課題1 模範解答\n",
        "\n",
        "エラーの理由：\n",
        "1. DiscountProductクラスがProductクラスを継承していません\n",
        "2. price変数にアクセスできません（基底クラスから継承されていない）\n",
        "\n",
        "修正したコード："
      ],
      "metadata": {
        "id": "jyt6di4pTOT3"
      }
    },
    {
      "cell_type": "code",
      "source": [
        "%%writefile main.cpp\n",
        "#include <iostream>\n",
        "\n",
        "class Product {\n",
        "protected:  // 派生クラスからアクセスできるようにprotectedに変更\n",
        "    int price;\n",
        "public:\n",
        "    Product(int p) : price(p) {}\n",
        "    void displayPrice() {\n",
        "        std::cout << \"基本商品の価格: \" << price << \"円\" << std::endl;\n",
        "    }\n",
        "};\n",
        "\n",
        "class DiscountProduct : public Product {  // Productクラスを継承\n",
        "public:\n",
        "    DiscountProduct(int p) : Product(p) {}  // 基底クラスのコンストラクタを呼び出し\n",
        "    void displayPrice() {\n",
        "        int discounted = price * 0.8;  // 20%割引\n",
        "        std::cout << \"割引商品の価格: \" << discounted << \"円（20%OFF）\" << std::endl;\n",
        "    }\n",
        "};\n",
        "\n",
        "int main() {\n",
        "    Product basic(100);\n",
        "    DiscountProduct special(100);\n",
        "\n",
        "    basic.displayPrice();\n",
        "    special.displayPrice();\n",
        "    return 0;\n",
        "}"
      ],
      "metadata": {
        "id": "6OuaYUN-TPlh"
      },
      "execution_count": null,
      "outputs": []
    },
    {
      "cell_type": "code",
      "source": [
        "# コンパイル＆実行\n",
        "if compile_program():\n",
        "    run_program()"
      ],
      "metadata": {
        "id": "ZUBwUnQ5TPpb"
      },
      "execution_count": null,
      "outputs": []
    },
    {
      "cell_type": "markdown",
      "source": [
        "---\n",
        "# CPP_10 課題1"
      ],
      "metadata": {
        "id": "nJv9bD52TSEF"
      }
    },
    {
      "cell_type": "code",
      "source": [],
      "metadata": {
        "id": "n7R4S17TTSh3"
      },
      "execution_count": null,
      "outputs": []
    },
    {
      "cell_type": "code",
      "source": [
        "# コンパイル＆実行\n",
        "if compile_program():\n",
        "    run_program()"
      ],
      "metadata": {
        "id": "J-fELfS1TSkN"
      },
      "execution_count": null,
      "outputs": []
    },
    {
      "cell_type": "markdown",
      "source": [
        "# CPP_10 課題1 模範解答\n"
      ],
      "metadata": {
        "id": "xCx6jLvUTUas"
      }
    },
    {
      "cell_type": "code",
      "source": [],
      "metadata": {
        "id": "RG5O8uOKTUkg"
      },
      "execution_count": null,
      "outputs": []
    },
    {
      "cell_type": "code",
      "source": [
        "# コンパイル＆実行\n",
        "if compile_program():\n",
        "    run_program()"
      ],
      "metadata": {
        "id": "64wZcf3ETUnI"
      },
      "execution_count": null,
      "outputs": []
    },
    {
      "cell_type": "markdown",
      "source": [
        "---\n",
        "# CPP_11 課題1"
      ],
      "metadata": {
        "id": "XNCsMnHTTW9D"
      }
    },
    {
      "cell_type": "code",
      "source": [],
      "metadata": {
        "id": "T68T4OICTXEG"
      },
      "execution_count": null,
      "outputs": []
    },
    {
      "cell_type": "code",
      "source": [
        "# コンパイル＆実行\n",
        "if compile_program():\n",
        "    run_program()"
      ],
      "metadata": {
        "id": "7CeniYJoTXG6"
      },
      "execution_count": null,
      "outputs": []
    },
    {
      "cell_type": "markdown",
      "source": [
        "# CPP_11 課題1 模範解答\n"
      ],
      "metadata": {
        "id": "YfGMvNURTZj5"
      }
    },
    {
      "cell_type": "code",
      "source": [],
      "metadata": {
        "id": "LHN7wybmTagn"
      },
      "execution_count": null,
      "outputs": []
    },
    {
      "cell_type": "code",
      "source": [],
      "metadata": {
        "id": "-ooleioETajN"
      },
      "execution_count": null,
      "outputs": []
    },
    {
      "cell_type": "markdown",
      "source": [
        "---\n",
        "# CPP_12 課題1"
      ],
      "metadata": {
        "id": "Bl6RUPViTeFp"
      }
    },
    {
      "cell_type": "code",
      "source": [],
      "metadata": {
        "id": "WFBM2Su_TgGX"
      },
      "execution_count": null,
      "outputs": []
    },
    {
      "cell_type": "code",
      "source": [
        "# コンパイル＆実行\n",
        "if compile_program():\n",
        "    run_program()"
      ],
      "metadata": {
        "id": "DpT2TAOATgI5"
      },
      "execution_count": null,
      "outputs": []
    },
    {
      "cell_type": "markdown",
      "source": [
        "# CPP_12 課題1 模範解答\n"
      ],
      "metadata": {
        "id": "FfnKYbBTTgff"
      }
    },
    {
      "cell_type": "code",
      "source": [],
      "metadata": {
        "id": "KrJd9iYqThgY"
      },
      "execution_count": null,
      "outputs": []
    },
    {
      "cell_type": "code",
      "source": [
        "# コンパイル＆実行\n",
        "if compile_program():\n",
        "    run_program()"
      ],
      "metadata": {
        "id": "KVC1E6dcThjE"
      },
      "execution_count": null,
      "outputs": []
    },
    {
      "cell_type": "markdown",
      "source": [
        "---\n",
        "# CPP_13 課題1"
      ],
      "metadata": {
        "id": "sCxljUtnTk3G"
      }
    },
    {
      "cell_type": "code",
      "source": [],
      "metadata": {
        "id": "3wy_Kfz4Tl-b"
      },
      "execution_count": null,
      "outputs": []
    },
    {
      "cell_type": "code",
      "source": [
        "# コンパイル＆実行\n",
        "if compile_program():\n",
        "    run_program()"
      ],
      "metadata": {
        "id": "zAXsNVHZTmBB"
      },
      "execution_count": null,
      "outputs": []
    },
    {
      "cell_type": "markdown",
      "source": [
        "# CPP_13 課題1 模範解答\n",
        "\n",
        "# 和暦変換システムの模範解答と解説\n",
        "\n",
        "## Q1. システムの主な目的\n",
        "**正解**: \"西暦日付を日本の元号（和暦）に変換するライブラリシステム\"\n",
        "\n",
        "**根拠となる文書**:\n",
        "- 設計書1.1の目的説明\n",
        "- era_converter.hppの実装内容\n",
        "\n",
        "## Q2. 入出力形式\n",
        "**正解**: \"入力はYYYYまたはYYYY/MM/DD形式、出力は元号と年月日\"\n",
        "\n",
        "**解説**:\n",
        "入出力形式は複数の箇所から確認できます：\n",
        "1. Date::parse()メソッドの実装では、YYYY形式とYYYY/MM/DD形式の両方をサポート\n",
        "2. main.cppの出力部分では、元号と年月日を整形して表示\n",
        "3. 設計書の「2.2 入力データ形式」セクションで明確に2つの入力形式をサポートすると記載\n",
        "\n",
        "## Q3. クラスの役割\n",
        "**正解**:\n",
        "- **date_role**: \"日付情報の管理と妥当性検証を行う\"\n",
        "- **era_role**: \"特定の日付における元号情報を保持する\"\n",
        "- **era_def_role**: \"元号の定義と期間判定を行う\"\n",
        "- **converter_role**: \"西暦から和暦への変換処理を実行する\"\n",
        "\n",
        "**根拠となる文書**: 設計書2.1「クラスの概要と役割」\n",
        "\n",
        "## Q4. 変換プロセスの順序\n",
        "**正解**: \"2→5→6→1→4→3\"\n",
        "\n",
        "**根拠となる文書**: 設計書3.「データフロー」のシーケンス図<br>\n",
        "シーケンス図と実際の処理フローから、以下の順序で処理が行われることがわかります：\n",
        "1. まず文字列をparse()で解析（ステップ2）\n",
        "2. 解析された日付の妥当性をDate::isValid()で確認（ステップ5）\n",
        "3. 明治開始日（1868年1月25日）との比較を実施（ステップ6）\n",
        "4. EraDefinition::contains()で適切な元号を検索（ステップ1）\n",
        "5. 見つかった元号定義でcalculateEraYear()を実行（ステップ4）\n",
        "6. 最後にEraオブジェクトを生成（ステップ3）\n",
        "\n",
        "## Q5. うるう年計算の不具合\n",
        "**正解**: \"うるう年の計算が4の倍数のみで判定されており、100年と400年の例外規則が考慮されていない\"\n",
        "\n",
        "**解説**:\n",
        "date.cppのisLeapYear()メソッドを見ると、以下の問題点があります：\n",
        "1. 現在の実装: `return (year % 4 == 0);`\n",
        "2. この実装では、4で割り切れる年を全てうるう年としている\n",
        "3. 正しいうるう年のルール：\n",
        "   - 4で割り切れる年はうるう年\n",
        "   - ただし、100で割り切れる年は平年\n",
        "   - ただし、400で割り切れる年はうるう年\n",
        "4. 正しい実装では: `return (year % 4 == 0 && year % 100 != 0) || (year % 400 == 0);`\n",
        "5. この不具合により、1900年など、本来平年となるべき年がうるう年として扱われてしまう"
      ],
      "metadata": {
        "id": "LWztIST1TnKp"
      }
    },
    {
      "cell_type": "code",
      "source": [],
      "metadata": {
        "id": "GOzVAMBDToam"
      },
      "execution_count": null,
      "outputs": []
    },
    {
      "cell_type": "code",
      "source": [
        "# コンパイル＆実行\n",
        "if compile_program():\n",
        "    run_program()"
      ],
      "metadata": {
        "id": "5Dcojxp0TodX"
      },
      "execution_count": null,
      "outputs": []
    },
    {
      "cell_type": "markdown",
      "source": [
        "---\n",
        "# CPP_14 課題1"
      ],
      "metadata": {
        "id": "9fjkDV8eTrXJ"
      }
    },
    {
      "cell_type": "code",
      "source": [],
      "metadata": {
        "id": "N4P-GlpFTtRp"
      },
      "execution_count": null,
      "outputs": []
    },
    {
      "cell_type": "code",
      "source": [
        "# コンパイル＆実行\n",
        "if compile_program():\n",
        "    run_program()"
      ],
      "metadata": {
        "id": "jMj6BVPwTtXc"
      },
      "execution_count": null,
      "outputs": []
    },
    {
      "cell_type": "markdown",
      "source": [
        "# CPP_14 課題1 模範解答\n"
      ],
      "metadata": {
        "id": "nuWIzdOCTtnO"
      }
    },
    {
      "cell_type": "code",
      "source": [],
      "metadata": {
        "id": "afvPkPwjTt3E"
      },
      "execution_count": null,
      "outputs": []
    },
    {
      "cell_type": "code",
      "source": [
        "# コンパイル＆実行\n",
        "if compile_program():\n",
        "    run_program()"
      ],
      "metadata": {
        "id": "lyULVH_qTt6D"
      },
      "execution_count": null,
      "outputs": []
    }
  ]
}